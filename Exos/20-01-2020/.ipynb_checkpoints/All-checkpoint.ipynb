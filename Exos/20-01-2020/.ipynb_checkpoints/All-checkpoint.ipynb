{
 "cells": [
  {
   "cell_type": "code",
   "execution_count": 8,
   "metadata": {},
   "outputs": [],
   "source": [
    "class CompteBancaire:\n",
    "    \n",
    "    def __init__(self,nom='Dupont',solde=1000):\n",
    " \n",
    "        self.nom=nom\n",
    "        self.solde=solde\n",
    "        \n",
    "    def depot(self,somme):\n",
    "      \n",
    "        \n",
    "        self.solde+=somme\n",
    "        \n",
    "    def retrait(self,somme):\n",
    "       \n",
    "        \n",
    "        self.solde-=somme\n",
    "        \n",
    "    def affiche(self):\n",
    "\n",
    "        \n",
    "        print(\"Le solde de %s est de %.2f euros.\"%(self.nom,self.solde))\n",
    "       \n",
    " \n",
    "class Point:\n",
    "    def __init__(self,x,y,z=None):#par défault  z = None\n",
    "        \n",
    "        self.x=x\n",
    "        self.y=y\n",
    "        self.z=z\n",
    "    \n",
    "    def ToString(self):\n",
    "        \"\"\" Affichage \"\"\"\n",
    "        if self.z==None:print(\"P(%.2f , %.2f)\"%(self.x,self.y))\n",
    "        else:print(\"P(%.2f , %.2f , %.2f)\"%(self.x,self.y,self.z))\n",
    "       \n",
    "       \n",
    "class Courrier:\n",
    "    \"\"\" La classe maman \"\"\"\n",
    "    def __init__(self,AdresseDestination,AdressExpedition,poids,mode):\n",
    "        self.AdresseDestination=AdresseDestination\n",
    "        self.AdressExpedition=AdressExpedition\n",
    "        self.poids=poids\n",
    "        self.mode=mode\n",
    "        \n",
    "    def ToString(self):\n",
    "        \"\"\"Affichage des information communs pour chaque courriers soit lettre ou collis\"\"\"\n",
    "        print(\" Adresse destination: %s \\n Adresse d'expedition: %s\\n Poids: %.2f grammes\\n Mode: %s \"%(self.AdresseDestination,self.AdressExpedition,self.poids,self.mode))\n",
    " \n",
    " \n",
    "class Lettre(Courrier):\n",
    "    \"\"\"Lettre est une classe dirive de la class donc la classe fille \"Lettre\" hérite tous les attributs et toutes les méthode de la classe mère \"Courrier\"\"\"\n",
    "    def __init__(self,AdresseDestination,AdressExpedition,poids,mode,format):\n",
    "        \"\"\"Polymorphysme(redéfinition)\"\"\"\n",
    "        Courrier.__init__(self,AdresseDestination,AdressExpedition,poids,mode)\n",
    "        self.format=format\n",
    "        \n",
    "    def calculTimbre(self):\n",
    "        \"Nouvelle méthode\"\n",
    "        \n",
    "        if self.format==\"A4\":tarif_base=2.5\n",
    "        if self.format==\"A3\":tarif_base=3.5\n",
    "        \n",
    "        montant=tarif_base*self.poids/1000\n",
    "        \n",
    "        if self.mode==\"expresse\":montant*=2\n",
    "        \n",
    "        return montant\n",
    "        \n",
    "    def ToString(self):\n",
    "        \"\"\"Polymorphysme(redéfinition)\"\"\"\n",
    "        print(\"Lettre:\")\n",
    "        Courrier.ToString(self)\n",
    "        print(\" Format:%s\\n Prix du timbre:%.2f\"%(self.format,self.calculTimbre()))\n",
    " \n",
    "class Colis(Courrier):\n",
    "    def __init__(self,AdresseDestination,AdressExpedition,poids,mode,volume):\n",
    "        Courrier.__init__(self,AdresseDestination,AdressExpedition,poids,mode)\n",
    "        self.volume=volume\n",
    "    def calculTimbre(self):\n",
    "        \"Nouvelle méthode\"\n",
    "        \n",
    "        montant=0.0\n",
    "        \n",
    "        montant=0.25*self.volume*self.poids/1000\n",
    "        \n",
    "        if self.mode==\"expresse\":montant*=2\n",
    "        \n",
    "        return montant\n",
    "        \n",
    "    def ToString(self):\n",
    "        \"\"\"Polymorphysme(redéfinition)\"\"\"\n",
    "        \n",
    "        print(\"Collis:\")\n",
    "        Courrier.ToString(self)\n",
    "        print(\" Volume: %.2f litres\\n Prix du timbre:%.2f\"%(self.volume,self.calculTimbre()))\n",
    "       \n",
    "class DateNaissance:\n",
    "    \"Classe DateNaissance\"\n",
    "    def __init__(self,jour,mois,annee):\n",
    "        self.jour=jour\n",
    "        self.mois=mois\n",
    "        self.annee=annee\n",
    "        \n",
    "    def ToString(self):\n",
    "        \"\"\"Méthode qui convertit la date de naissance en chaine de caractère\"\"\"\n",
    "        return \"%02d / %02d / %d\" %(self.jour,self.mois,self.annee)\n",
    " \n",
    "class personne:#la classe mère\n",
    "    def __init__(self,nom,prenom,date_naissance):\n",
    "        self.nom=nom\n",
    "        self.prenom=prenom\n",
    "        self.date_naissance=date_naissance\n",
    "        \n",
    "    def afficher(self):\n",
    "        print(\"Nom:%s \\nPrénom: %s \\nDate de naissance: %s\"%(self.nom,self.prenom,self.date_naissance.ToString()))\n",
    " \n",
    "class employe(personne):#employe est une classe fille qui hérite de la classe mère personne\n",
    " \n",
    "    def __init__(self,nom,prenom,date_naissance,salaire):#redéfinir le constructeur \"Polymorphisme d'héritage\"\n",
    "        personne.__init__(self,nom,prenom,date_naissance)#Instanciation de la classe mère (appeler le constructeur de la classe mère dans le constructeur de la classe fille)\n",
    "        self.salaire=salaire\n",
    "    def afficher(self):#redéfinir la méthode polymorphe Afficher\n",
    "        personne.afficher(self)\n",
    "        print(\"Salaire: %.02f\"%self.salaire)\n",
    " \n",
    "class chef(employe):#chef est une classe fille de la classe mère employe qui est une classe fille de la classe personne\n",
    "    def __init__(self,nom,prenom,date_naissance,salaire,service):\n",
    "        employe.__init__(self,nom,prenom,date_naissance,salaire)\n",
    "        self.service=service\n",
    "    def afficher(self):\n",
    "        employe.afficher(self)\n",
    "        print(\"Service: %s\"%self.service)"
   ]
  },
  {
   "cell_type": "code",
   "execution_count": 9,
   "metadata": {},
   "outputs": [
    {
     "ename": "SyntaxError",
     "evalue": "invalid character in identifier (<ipython-input-9-ec1eb6c4b7da>, line 1)",
     "output_type": "error",
     "traceback": [
      "\u001b[1;36m  File \u001b[1;32m\"<ipython-input-9-ec1eb6c4b7da>\"\u001b[1;36m, line \u001b[1;32m1\u001b[0m\n\u001b[1;33m    compte1 = CompteBancaire(‘Duchmol’, 800)\u001b[0m\n\u001b[1;37m                                     ^\u001b[0m\n\u001b[1;31mSyntaxError\u001b[0m\u001b[1;31m:\u001b[0m invalid character in identifier\n"
     ]
    }
   ],
   "source": [
    "compte1 = CompteBancaire(‘Duchmol’, 800)"
   ]
  },
  {
   "cell_type": "code",
   "execution_count": 10,
   "metadata": {},
   "outputs": [],
   "source": [
    "compte1 = CompteBancaire('Duchmol', 800)"
   ]
  },
  {
   "cell_type": "code",
   "execution_count": 11,
   "metadata": {},
   "outputs": [],
   "source": [
    "compte1.depot(350)"
   ]
  },
  {
   "cell_type": "code",
   "execution_count": 12,
   "metadata": {},
   "outputs": [],
   "source": [
    "compte1.retrait(200)"
   ]
  },
  {
   "cell_type": "code",
   "execution_count": 13,
   "metadata": {},
   "outputs": [
    {
     "name": "stdout",
     "output_type": "stream",
     "text": [
      "Le solde de Duchmol est de 950.00 euros.\n"
     ]
    }
   ],
   "source": [
    "compte1.affiche()"
   ]
  },
  {
   "cell_type": "code",
   "execution_count": 14,
   "metadata": {},
   "outputs": [],
   "source": [
    "compte2 = CompteBancaire()"
   ]
  },
  {
   "cell_type": "code",
   "execution_count": 15,
   "metadata": {},
   "outputs": [],
   "source": [
    "compte2.depot(25)"
   ]
  },
  {
   "cell_type": "code",
   "execution_count": 16,
   "metadata": {},
   "outputs": [
    {
     "name": "stdout",
     "output_type": "stream",
     "text": [
      "Le solde de Dupont est de 1025.00 euros.\n"
     ]
    }
   ],
   "source": [
    "compte2.affiche()"
   ]
  },
  {
   "cell_type": "code",
   "execution_count": 17,
   "metadata": {},
   "outputs": [],
   "source": [
    "P1=Point(2,3)"
   ]
  },
  {
   "cell_type": "code",
   "execution_count": 18,
   "metadata": {},
   "outputs": [
    {
     "name": "stdout",
     "output_type": "stream",
     "text": [
      "P(2.00 , 3.00)\n"
     ]
    }
   ],
   "source": [
    "P1.ToString()"
   ]
  },
  {
   "cell_type": "code",
   "execution_count": 19,
   "metadata": {},
   "outputs": [],
   "source": [
    "P2=Point(1,-5,6)"
   ]
  },
  {
   "cell_type": "code",
   "execution_count": 20,
   "metadata": {},
   "outputs": [
    {
     "name": "stdout",
     "output_type": "stream",
     "text": [
      "P(1.00 , -5.00 , 6.00)\n"
     ]
    }
   ],
   "source": [
    "P2.ToString()"
   ]
  },
  {
   "cell_type": "code",
   "execution_count": 21,
   "metadata": {},
   "outputs": [
    {
     "ename": "SyntaxError",
     "evalue": "invalid character in identifier (<ipython-input-21-5dc4cdd37e5a>, line 1)",
     "output_type": "error",
     "traceback": [
      "\u001b[1;36m  File \u001b[1;32m\"<ipython-input-21-5dc4cdd37e5a>\"\u001b[1;36m, line \u001b[1;32m1\u001b[0m\n\u001b[1;33m    P=personne(“Ilyass”,”Math”,DateNaissance(1,7,1982))\u001b[0m\n\u001b[1;37m                      ^\u001b[0m\n\u001b[1;31mSyntaxError\u001b[0m\u001b[1;31m:\u001b[0m invalid character in identifier\n"
     ]
    }
   ],
   "source": [
    "P=personne(“Ilyass”,”Math”,DateNaissance(1,7,1982))"
   ]
  },
  {
   "cell_type": "code",
   "execution_count": 22,
   "metadata": {},
   "outputs": [],
   "source": [
    "P=personne('Ilyass','Math',DateNaissance(1,7,1982))"
   ]
  },
  {
   "cell_type": "code",
   "execution_count": 23,
   "metadata": {},
   "outputs": [
    {
     "name": "stdout",
     "output_type": "stream",
     "text": [
      "Nom:Ilyass \n",
      "Prénom: Math \n",
      "Date de naissance: 01 / 07 / 1982\n"
     ]
    }
   ],
   "source": [
    "P.afficher()"
   ]
  },
  {
   "cell_type": "code",
   "execution_count": 24,
   "metadata": {},
   "outputs": [],
   "source": [
    "E=employe('Ilyass','Math',DateNaissance(1,7,1985),7865.548)"
   ]
  },
  {
   "cell_type": "code",
   "execution_count": 25,
   "metadata": {},
   "outputs": [
    {
     "name": "stdout",
     "output_type": "stream",
     "text": [
      "Nom:Ilyass \n",
      "Prénom: Math \n",
      "Date de naissance: 01 / 07 / 1985\n",
      "Salaire: 7865.55\n"
     ]
    }
   ],
   "source": [
    "E.afficher()"
   ]
  },
  {
   "cell_type": "code",
   "execution_count": 26,
   "metadata": {},
   "outputs": [],
   "source": [
    "Ch=chef('Ilyass','Math',DateNaissance(1,7,1988),7865.548,'Ressource humaine')"
   ]
  },
  {
   "cell_type": "code",
   "execution_count": 27,
   "metadata": {},
   "outputs": [
    {
     "name": "stdout",
     "output_type": "stream",
     "text": [
      "Nom:Ilyass \n",
      "Prénom: Math \n",
      "Date de naissance: 01 / 07 / 1988\n",
      "Salaire: 7865.55\n",
      "Service: Ressource humaine\n"
     ]
    }
   ],
   "source": [
    "Ch.afficher()"
   ]
  },
  {
   "cell_type": "code",
   "execution_count": 28,
   "metadata": {},
   "outputs": [],
   "source": [
    "L1=Lettre('Lille','Paris',80,'normal','A4')"
   ]
  },
  {
   "cell_type": "code",
   "execution_count": 29,
   "metadata": {},
   "outputs": [
    {
     "name": "stdout",
     "output_type": "stream",
     "text": [
      "Lettre:\n",
      " Adresse destination: Lille \n",
      " Adress expedition: Paris\n",
      " Poids: 80.00 grammes\n",
      " Mode: normal \n",
      " Format:A4\n",
      " Prix du timbre:0.20\n"
     ]
    }
   ],
   "source": [
    "L1.ToString()"
   ]
  },
  {
   "cell_type": "code",
   "execution_count": 30,
   "metadata": {},
   "outputs": [],
   "source": [
    "C1=Colis('Marrakeche','Barcelone',3500,'expresse',2.25)"
   ]
  },
  {
   "cell_type": "code",
   "execution_count": 31,
   "metadata": {},
   "outputs": [
    {
     "name": "stdout",
     "output_type": "stream",
     "text": [
      "Collis:\n",
      " Adresse destination: Marrakeche \n",
      " Adress expedition: Barcelone\n",
      " Poids: 3500.00 grammes\n",
      " Mode: expresse \n",
      " Volume: 2.25 litres\n",
      " Prix du timbre:3.94\n"
     ]
    }
   ],
   "source": [
    "C1.ToString()"
   ]
  },
  {
   "cell_type": "code",
   "execution_count": 32,
   "metadata": {},
   "outputs": [
    {
     "name": "stdout",
     "output_type": "stream",
     "text": [
      "Collis:\n",
      " Adresse destination: Marrakeche \n",
      " Adress expedition: Barcelone\n",
      " Poids: 3500.00 grammes\n",
      " Mode: expresse \n",
      " Volume: 2.25 litres\n",
      " Prix du timbre:3.94\n"
     ]
    }
   ],
   "source": [
    "C1.ToString()"
   ]
  },
  {
   "cell_type": "code",
   "execution_count": null,
   "metadata": {},
   "outputs": [],
   "source": []
  }
 ],
 "metadata": {
  "kernelspec": {
   "display_name": "Python 3",
   "language": "python",
   "name": "python3"
  },
  "language_info": {
   "codemirror_mode": {
    "name": "ipython",
    "version": 3
   },
   "file_extension": ".py",
   "mimetype": "text/x-python",
   "name": "python",
   "nbconvert_exporter": "python",
   "pygments_lexer": "ipython3",
   "version": "3.7.3"
  }
 },
 "nbformat": 4,
 "nbformat_minor": 4
}
