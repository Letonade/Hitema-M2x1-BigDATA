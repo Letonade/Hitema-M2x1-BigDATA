{
 "cells": [
  {
   "cell_type": "code",
   "execution_count": 1,
   "metadata": {},
   "outputs": [
    {
     "data": {
      "text/html": [
       "\n",
       "        <div>\n",
       "            <p><b>SparkContext</b></p>\n",
       "\n",
       "            <p><a href=\"http://53bc0fed20e9:4040\">Spark UI</a></p>\n",
       "\n",
       "            <dl>\n",
       "              <dt>Version</dt>\n",
       "                <dd><code>v2.4.4</code></dd>\n",
       "              <dt>Master</dt>\n",
       "                <dd><code>local</code></dd>\n",
       "              <dt>AppName</dt>\n",
       "                <dd><code>test</code></dd>\n",
       "            </dl>\n",
       "        </div>\n",
       "        "
      ],
      "text/plain": [
       "<SparkContext master=local appName=test>"
      ]
     },
     "execution_count": 1,
     "metadata": {},
     "output_type": "execute_result"
    }
   ],
   "source": [
    "from pyspark import *\n",
    "sc = SparkContext(master=\"local\", appName=\"test\")\n",
    "sc"
   ]
  },
  {
   "cell_type": "code",
   "execution_count": 12,
   "metadata": {},
   "outputs": [
    {
     "data": {
      "text/plain": [
       "./kddcup.data_10_percent.gz MapPartitionsRDD[29] at textFile at NativeMethodAccessorImpl.java:0"
      ]
     },
     "execution_count": 12,
     "metadata": {},
     "output_type": "execute_result"
    }
   ],
   "source": [
    "import urllib.request as ur\n",
    "f = ur.urlretrieve (\"http://kdd.ics.uci.edu/databases/kddcup99/kddcup.data_10_percent.gz\", \"kddcup.data_10_percent.gz\")\n",
    "data_file = \"./kddcup.data_10_percent.gz\"\n",
    "raw_data = sc.textFile(data_file)\n",
    "raw_data\n",
    "#.collect() passe la donnée en liste python"
   ]
  },
  {
   "cell_type": "code",
   "execution_count": 13,
   "metadata": {},
   "outputs": [],
   "source": [
    "from pyspark.sql import SQLContext\n",
    "sqlContext = SQLContext(sc)\n",
    "from pyspark.sql.types import StructType\n",
    "from pyspark.sql.types import StructField\n",
    "from pyspark.sql.types import StringType\n",
    "\n",
    "col = raw_data.map(lambda l: l.split(\",\"))\n",
    "pop = col.map(lambda key:(int(key[0]),key[1],key[2],key[3],int(key[4]),int(key[5]),key[-1]))\n",
    "df = sqlContext.createDataFrame(pop)\n"
   ]
  },
  {
   "cell_type": "code",
   "execution_count": 22,
   "metadata": {},
   "outputs": [
    {
     "data": {
      "text/plain": [
       "[Column<b'0'>,\n",
       " Column<b'1'>,\n",
       " Column<b'2'>,\n",
       " Column<b'3'>,\n",
       " Column<b'4'>,\n",
       " Column<b'5'>,\n",
       " Column<b'6'>,\n",
       " Column<b'7'>,\n",
       " Column<b'8'>,\n",
       " Column<b'9'>,\n",
       " Column<b'10'>,\n",
       " Column<b'11'>,\n",
       " Column<b'12'>,\n",
       " Column<b'13'>,\n",
       " Column<b'14'>,\n",
       " Column<b'15'>,\n",
       " Column<b'16'>,\n",
       " Column<b'17'>,\n",
       " Column<b'18'>,\n",
       " Column<b'19'>,\n",
       " Column<b'20'>,\n",
       " Column<b'21'>,\n",
       " Column<b'22'>,\n",
       " Column<b'23'>,\n",
       " Column<b'24'>,\n",
       " Column<b'25'>,\n",
       " Column<b'26'>,\n",
       " Column<b'27'>,\n",
       " Column<b'28'>,\n",
       " Column<b'29'>,\n",
       " Column<b'30'>,\n",
       " Column<b'31'>]"
      ]
     },
     "execution_count": 22,
     "metadata": {},
     "output_type": "execute_result"
    }
   ],
   "source": [
    "list(df)"
   ]
  }
 ],
 "metadata": {
  "kernelspec": {
   "display_name": "Python 3",
   "language": "python",
   "name": "python3"
  },
  "language_info": {
   "codemirror_mode": {
    "name": "ipython",
    "version": 3
   },
   "file_extension": ".py",
   "mimetype": "text/x-python",
   "name": "python",
   "nbconvert_exporter": "python",
   "pygments_lexer": "ipython3",
   "version": "3.7.3"
  }
 },
 "nbformat": 4,
 "nbformat_minor": 2
}
