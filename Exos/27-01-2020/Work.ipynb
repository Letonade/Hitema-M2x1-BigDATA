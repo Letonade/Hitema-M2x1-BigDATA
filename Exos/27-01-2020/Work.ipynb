{
 "cells": [
  {
   "cell_type": "code",
   "execution_count": 1,
   "metadata": {},
   "outputs": [
    {
     "data": {
      "text/html": [
       "\n",
       "        <div>\n",
       "            <p><b>SparkContext</b></p>\n",
       "\n",
       "            <p><a href=\"http://53bc0fed20e9:4040\">Spark UI</a></p>\n",
       "\n",
       "            <dl>\n",
       "              <dt>Version</dt>\n",
       "                <dd><code>v2.4.4</code></dd>\n",
       "              <dt>Master</dt>\n",
       "                <dd><code>local</code></dd>\n",
       "              <dt>AppName</dt>\n",
       "                <dd><code>test</code></dd>\n",
       "            </dl>\n",
       "        </div>\n",
       "        "
      ],
      "text/plain": [
       "<SparkContext master=local appName=test>"
      ]
     },
     "execution_count": 1,
     "metadata": {},
     "output_type": "execute_result"
    }
   ],
   "source": [
    "from pyspark import *\n",
    "sc = SparkContext(master=\"local\", appName=\"test\")\n",
    "sc"
   ]
  },
  {
   "cell_type": "code",
   "execution_count": 36,
   "metadata": {},
   "outputs": [
    {
     "data": {
      "text/plain": [
       "./kddcup.data_10_percent.gz MapPartitionsRDD[68] at textFile at NativeMethodAccessorImpl.java:0"
      ]
     },
     "execution_count": 36,
     "metadata": {},
     "output_type": "execute_result"
    }
   ],
   "source": [
    "import urllib.request as ur\n",
    "f = ur.urlretrieve (\"http://kdd.ics.uci.edu/databases/kddcup99/kddcup.data_10_percent.gz\", \"kddcup.data_10_percent.gz\")\n",
    "data_file = \"./kddcup.data_10_percent.gz\"\n",
    "raw_data = sc.textFile(data_file)\n",
    "raw_data\n",
    "#.collect() passe la donnée en liste python"
   ]
  },
  {
   "cell_type": "code",
   "execution_count": 37,
   "metadata": {},
   "outputs": [
    {
     "data": {
      "text/plain": [
       "StructType(List(StructField(duration,IntegerType,true),StructField(protocol_type,StringType,true),StructField(service,StringType,true),StructField(flag,StringType,true),StructField(src_bytes,IntegerType,true),StructField(dest_bytes,IntegerType,true),StructField(interactions,StringType,true)))"
      ]
     },
     "execution_count": 37,
     "metadata": {},
     "output_type": "execute_result"
    }
   ],
   "source": [
    "raw_data = raw_data.map(lambda x: x.split(','))\n",
    "from pyspark.sql.types import *\n",
    "structure = StructType([\n",
    "    StructField(\"duration\", IntegerType(),     True),\n",
    "    StructField(\"protocol_type\", StringType(), True),\n",
    "    StructField(\"service\", StringType(),       True),\n",
    "    StructField(\"flag\", StringType(),       True),\n",
    "    StructField(\"src_bytes\", IntegerType(),    True),\n",
    "    StructField(\"dest_bytes\", IntegerType(),   True),\n",
    "    StructField(\"interactions\", StringType(),  True)\n",
    "])\n",
    "structure"
   ]
  },
  {
   "cell_type": "code",
   "execution_count": 49,
   "metadata": {},
   "outputs": [
    {
     "name": "stdout",
     "output_type": "stream",
     "text": [
      "+--------+-------------+-------+----+---------+----------+------------+\n",
      "|duration|protocol_type|service|flag|src_bytes|dest_bytes|interactions|\n",
      "+--------+-------------+-------+----+---------+----------+------------+\n",
      "|       0|          tcp|   http|  SF|      181|      5450|     normal.|\n",
      "|       0|          tcp|   http|  SF|      239|       486|     normal.|\n",
      "|       0|          tcp|   http|  SF|      235|      1337|     normal.|\n",
      "|       0|          tcp|   http|  SF|      219|      1337|     normal.|\n",
      "|       0|          tcp|   http|  SF|      217|      2032|     normal.|\n",
      "|       0|          tcp|   http|  SF|      217|      2032|     normal.|\n",
      "|       0|          tcp|   http|  SF|      212|      1940|     normal.|\n",
      "|       0|          tcp|   http|  SF|      159|      4087|     normal.|\n",
      "|       0|          tcp|   http|  SF|      210|       151|     normal.|\n",
      "|       0|          tcp|   http|  SF|      212|       786|     normal.|\n",
      "+--------+-------------+-------+----+---------+----------+------------+\n",
      "only showing top 10 rows\n",
      "\n"
     ]
    }
   ],
   "source": [
    "from pyspark.sql import SQLContext\n",
    "sqlContext = SQLContext(sc)\n",
    "\n",
    "pop = raw_data.map(lambda key: (int(key[0]), key[1], key[2], key[3], int(key[4]), int(key[5]), key[-1]))\n",
    "df = sqlContext.createDataFrame(pop, structure)\n",
    "df.createOrReplaceTempView('interactions')\n",
    "df.show(10)\n"
   ]
  },
  {
   "cell_type": "code",
   "execution_count": 52,
   "metadata": {},
   "outputs": [
    {
     "data": {
      "text/plain": [
       "139"
      ]
     },
     "execution_count": 52,
     "metadata": {},
     "output_type": "execute_result"
    }
   ],
   "source": [
    "res = df[(df['duration'] > 1000) & (df['protocol_type'] == 'tcp') & (df['dest_bytes'] == 0)]\n",
    "res.count()"
   ]
  },
  {
   "cell_type": "code",
   "execution_count": 55,
   "metadata": {},
   "outputs": [
    {
     "data": {
      "text/plain": [
       "['Durée: 0, Dest. bytes: 5057',\n",
       " 'Durée: 0, Dest. bytes: 5059',\n",
       " 'Durée: 0, Dest. bytes: 5051',\n",
       " 'Durée: 0, Dest. bytes: 5056',\n",
       " 'Durée: 0, Dest. bytes: 5051',\n",
       " 'Durée: 0, Dest. bytes: 5039',\n",
       " 'Durée: 0, Dest. bytes: 5062',\n",
       " 'Durée: 0, Dest. bytes: 5041',\n",
       " 'Durée: 0, Dest. bytes: 5056',\n",
       " 'Durée: 0, Dest. bytes: 5064']"
      ]
     },
     "execution_count": 55,
     "metadata": {},
     "output_type": "execute_result"
    }
   ],
   "source": [
    "res.rdd.map(lambda x : \"Durée: {0}, Dest. bytes: {1}\".format(x.dest_bytes,x.duration)).take(10)\n"
   ]
  },
  {
   "cell_type": "code",
   "execution_count": 75,
   "metadata": {
    "scrolled": false
   },
   "outputs": [
    {
     "name": "stdout",
     "output_type": "stream",
     "text": [
      "+-------------+------+\n",
      "|protocol_type| count|\n",
      "+-------------+------+\n",
      "|          tcp|190065|\n",
      "|          udp| 20354|\n",
      "|         icmp|283602|\n",
      "+-------------+------+\n",
      "\n",
      "Execution : 17.513635396957397 s\n",
      "+------+-------------+\n",
      "|    NB|protocol_type|\n",
      "+------+-------------+\n",
      "|190065|          tcp|\n",
      "| 20354|          udp|\n",
      "|283602|         icmp|\n",
      "+------+-------------+\n",
      "\n",
      "Execution : 37.39226293563843 s\n"
     ]
    }
   ],
   "source": [
    "import time\n",
    "proto = df[['protocol_type']].groupby(['protocol_type']).count()\n",
    "start_time = time.time()\n",
    "proto.show()\n",
    "print(\"Execution : %s s\" % (time.time() - start_time))\n",
    "proto2 = sqlContext.sql(\"SELECT count(protocol_type) as NB, protocol_type FROM interactions GROUP BY protocol_type\")\n",
    "proto2.show()\n",
    "print(\"Execution : %s s\" % (time.time() - start_time))"
   ]
  },
  {
   "cell_type": "code",
   "execution_count": 73,
   "metadata": {},
   "outputs": [
    {
     "name": "stdout",
     "output_type": "stream",
     "text": [
      "+-------------+-----+\n",
      "|protocol_type|count|\n",
      "+-------------+-----+\n",
      "|          tcp|  139|\n",
      "+-------------+-----+\n",
      "\n",
      "Execution : 16.394159078598022 s\n"
     ]
    }
   ],
   "source": [
    "start_time = time.time()\n",
    "proto = df[(df['duration'] > 1000) & (df['dest_bytes'] ==0)].groupby(['protocol_type']).count()\n",
    "proto.show()\n",
    "print(\"Execution : %s s\" % (time.time() - start_time))"
   ]
  },
  {
   "cell_type": "code",
   "execution_count": 72,
   "metadata": {
    "scrolled": true
   },
   "outputs": [
    {
     "data": {
      "text/plain": [
       "['Tps: 0, T0: 5057',\n",
       " 'Tps: 0, T0: 5059',\n",
       " 'Tps: 0, T0: 5051',\n",
       " 'Tps: 0, T0: 5056',\n",
       " 'Tps: 0, T0: 5051',\n",
       " 'Tps: 0, T0: 5039',\n",
       " 'Tps: 0, T0: 5062',\n",
       " 'Tps: 0, T0: 5041',\n",
       " 'Tps: 0, T0: 5056',\n",
       " 'Tps: 0, T0: 5064',\n",
       " 'Tps: 0, T0: 5043',\n",
       " 'Tps: 0, T0: 5061',\n",
       " 'Tps: 0, T0: 5049',\n",
       " 'Tps: 0, T0: 5061',\n",
       " 'Tps: 0, T0: 5048',\n",
       " 'Tps: 0, T0: 5047',\n",
       " 'Tps: 0, T0: 5044',\n",
       " 'Tps: 0, T0: 5063',\n",
       " 'Tps: 0, T0: 5068',\n",
       " 'Tps: 0, T0: 5062',\n",
       " 'Tps: 0, T0: 5046',\n",
       " 'Tps: 0, T0: 5052',\n",
       " 'Tps: 0, T0: 5044',\n",
       " 'Tps: 0, T0: 5054',\n",
       " 'Tps: 0, T0: 5039',\n",
       " 'Tps: 0, T0: 5058',\n",
       " 'Tps: 0, T0: 5051',\n",
       " 'Tps: 0, T0: 5032',\n",
       " 'Tps: 0, T0: 5063',\n",
       " 'Tps: 0, T0: 5040',\n",
       " 'Tps: 0, T0: 5051',\n",
       " 'Tps: 0, T0: 5066',\n",
       " 'Tps: 0, T0: 5044',\n",
       " 'Tps: 0, T0: 5051',\n",
       " 'Tps: 0, T0: 5036',\n",
       " 'Tps: 0, T0: 5055',\n",
       " 'Tps: 0, T0: 2426',\n",
       " 'Tps: 0, T0: 5047',\n",
       " 'Tps: 0, T0: 5057',\n",
       " 'Tps: 0, T0: 5037',\n",
       " 'Tps: 0, T0: 5057',\n",
       " 'Tps: 0, T0: 5062']"
      ]
     },
     "execution_count": 72,
     "metadata": {},
     "output_type": "execute_result"
    }
   ],
   "source": [
    "proto = df[(df['duration'] > 1000) & (df['dest_bytes'] ==0)]\n",
    "proto.rdd.map(lambda x : \"Tps: {1}, T0: {0}\".format(x.duration, x.dest_bytes)).take(42)"
   ]
  },
  {
   "cell_type": "code",
   "execution_count": 76,
   "metadata": {},
   "outputs": [],
   "source": [
    "from pyspark.sql.functions import udf\n",
    "\n",
    "\n",
    "def attack_or_normal_func(s):\n",
    "    return \"normal\" if s == \"normal.\" else \"attack\"\n"
   ]
  },
  {
   "cell_type": "code",
   "execution_count": 78,
   "metadata": {},
   "outputs": [
    {
     "name": "stdout",
     "output_type": "stream",
     "text": [
      "root\n",
      " |-- duration: integer (nullable = true)\n",
      " |-- protocol_type: string (nullable = true)\n",
      " |-- service: string (nullable = true)\n",
      " |-- flag: string (nullable = true)\n",
      " |-- src_bytes: integer (nullable = true)\n",
      " |-- dest_bytes: integer (nullable = true)\n",
      " |-- interactions: string (nullable = true)\n",
      " |-- label: string (nullable = true)\n",
      "\n"
     ]
    }
   ],
   "source": [
    "new = udf(attack_or_normal_func, StringType())\n",
    "df = df.withColumn('label',new(df['interactions']))\n",
    "df.printSchema()"
   ]
  },
  {
   "cell_type": "code",
   "execution_count": 81,
   "metadata": {},
   "outputs": [
    {
     "name": "stdout",
     "output_type": "stream",
     "text": [
      "+------+------+\n",
      "| label| count|\n",
      "+------+------+\n",
      "|normal| 97278|\n",
      "|attack|396743|\n",
      "+------+------+\n",
      "\n",
      "Execution : 15.989753484725952 s\n"
     ]
    }
   ],
   "source": [
    "start_time = time.time()\n",
    "df.select('label').groupby('label').count().show()\n",
    "print(\"Execution : %s s\" % (time.time() - start_time))\n"
   ]
  },
  {
   "cell_type": "code",
   "execution_count": 82,
   "metadata": {},
   "outputs": [
    {
     "name": "stdout",
     "output_type": "stream",
     "text": [
      "+------+------+\n",
      "| label| count|\n",
      "+------+------+\n",
      "|normal| 97278|\n",
      "|attack|396743|\n",
      "+------+------+\n",
      "\n",
      "Execution : 17.52212619781494 s\n"
     ]
    }
   ],
   "source": [
    "start_time = time.time()\n",
    "df.groupby(\"label\").count().show()\n",
    "print(\"Execution : %s s\" % (time.time() - start_time))\n",
    "\n"
   ]
  },
  {
   "cell_type": "code",
   "execution_count": 83,
   "metadata": {},
   "outputs": [
    {
     "name": "stdout",
     "output_type": "stream",
     "text": [
      "+------+-------------+------+\n",
      "| label|protocol_type| count|\n",
      "+------+-------------+------+\n",
      "|normal|          udp| 19177|\n",
      "|normal|         icmp|  1288|\n",
      "|normal|          tcp| 76813|\n",
      "|attack|         icmp|282314|\n",
      "|attack|          tcp|113252|\n",
      "|attack|          udp|  1177|\n",
      "+------+-------------+------+\n",
      "\n",
      "Execution : 19.367615222930908 s\n"
     ]
    }
   ],
   "source": [
    "start_time = time.time()\n",
    "df.select('label', 'protocol_type').groupby('label', 'protocol_type').count().show()\n",
    "print(\"Execution : %s s\" % (time.time() - start_time))"
   ]
  }
 ],
 "metadata": {
  "kernelspec": {
   "display_name": "Python 3",
   "language": "python",
   "name": "python3"
  },
  "language_info": {
   "codemirror_mode": {
    "name": "ipython",
    "version": 3
   },
   "file_extension": ".py",
   "mimetype": "text/x-python",
   "name": "python",
   "nbconvert_exporter": "python",
   "pygments_lexer": "ipython3",
   "version": "3.7.3"
  }
 },
 "nbformat": 4,
 "nbformat_minor": 2
}
