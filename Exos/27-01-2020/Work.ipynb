{
 "cells": [
  {
   "cell_type": "code",
   "execution_count": 1,
   "metadata": {},
   "outputs": [
    {
     "data": {
      "text/html": [
       "\n",
       "        <div>\n",
       "            <p><b>SparkContext</b></p>\n",
       "\n",
       "            <p><a href=\"http://53bc0fed20e9:4040\">Spark UI</a></p>\n",
       "\n",
       "            <dl>\n",
       "              <dt>Version</dt>\n",
       "                <dd><code>v2.4.4</code></dd>\n",
       "              <dt>Master</dt>\n",
       "                <dd><code>local</code></dd>\n",
       "              <dt>AppName</dt>\n",
       "                <dd><code>test</code></dd>\n",
       "            </dl>\n",
       "        </div>\n",
       "        "
      ],
      "text/plain": [
       "<SparkContext master=local appName=test>"
      ]
     },
     "execution_count": 1,
     "metadata": {},
     "output_type": "execute_result"
    }
   ],
   "source": [
    "from pyspark import *\n",
    "sc = SparkContext(master=\"local\", appName=\"test\")\n",
    "sc"
   ]
  },
  {
   "cell_type": "code",
   "execution_count": 36,
   "metadata": {},
   "outputs": [
    {
     "data": {
      "text/plain": [
       "./kddcup.data_10_percent.gz MapPartitionsRDD[68] at textFile at NativeMethodAccessorImpl.java:0"
      ]
     },
     "execution_count": 36,
     "metadata": {},
     "output_type": "execute_result"
    }
   ],
   "source": [
    "import urllib.request as ur\n",
    "f = ur.urlretrieve (\"http://kdd.ics.uci.edu/databases/kddcup99/kddcup.data_10_percent.gz\", \"kddcup.data_10_percent.gz\")\n",
    "data_file = \"./kddcup.data_10_percent.gz\"\n",
    "raw_data = sc.textFile(data_file)\n",
    "raw_data\n",
    "#.collect() passe la donnée en liste python"
   ]
  },
  {
   "cell_type": "code",
   "execution_count": 37,
   "metadata": {},
   "outputs": [
    {
     "data": {
      "text/plain": [
       "StructType(List(StructField(duration,IntegerType,true),StructField(protocol_type,StringType,true),StructField(service,StringType,true),StructField(flag,StringType,true),StructField(src_bytes,IntegerType,true),StructField(dest_bytes,IntegerType,true),StructField(interactions,StringType,true)))"
      ]
     },
     "execution_count": 37,
     "metadata": {},
     "output_type": "execute_result"
    }
   ],
   "source": [
    "raw_data = raw_data.map(lambda x: x.split(','))\n",
    "from pyspark.sql.types import *\n",
    "structure = StructType([\n",
    "    StructField(\"duration\", IntegerType(),     True),\n",
    "    StructField(\"protocol_type\", StringType(), True),\n",
    "    StructField(\"service\", StringType(),       True),\n",
    "    StructField(\"flag\", StringType(),       True),\n",
    "    StructField(\"src_bytes\", IntegerType(),    True),\n",
    "    StructField(\"dest_bytes\", IntegerType(),   True),\n",
    "    StructField(\"interactions\", StringType(),  True)\n",
    "])\n",
    "structure"
   ]
  },
  {
   "cell_type": "code",
   "execution_count": 49,
   "metadata": {},
   "outputs": [
    {
     "name": "stdout",
     "output_type": "stream",
     "text": [
      "+--------+-------------+-------+----+---------+----------+------------+\n",
      "|duration|protocol_type|service|flag|src_bytes|dest_bytes|interactions|\n",
      "+--------+-------------+-------+----+---------+----------+------------+\n",
      "|       0|          tcp|   http|  SF|      181|      5450|     normal.|\n",
      "|       0|          tcp|   http|  SF|      239|       486|     normal.|\n",
      "|       0|          tcp|   http|  SF|      235|      1337|     normal.|\n",
      "|       0|          tcp|   http|  SF|      219|      1337|     normal.|\n",
      "|       0|          tcp|   http|  SF|      217|      2032|     normal.|\n",
      "|       0|          tcp|   http|  SF|      217|      2032|     normal.|\n",
      "|       0|          tcp|   http|  SF|      212|      1940|     normal.|\n",
      "|       0|          tcp|   http|  SF|      159|      4087|     normal.|\n",
      "|       0|          tcp|   http|  SF|      210|       151|     normal.|\n",
      "|       0|          tcp|   http|  SF|      212|       786|     normal.|\n",
      "+--------+-------------+-------+----+---------+----------+------------+\n",
      "only showing top 10 rows\n",
      "\n"
     ]
    }
   ],
   "source": [
    "from pyspark.sql import SQLContext\n",
    "sqlContext = SQLContext(sc)\n",
    "\n",
    "pop = raw_data.map(lambda key: (int(key[0]), key[1], key[2], key[3], int(key[4]), int(key[5]), key[-1]))\n",
    "df = sqlContext.createDataFrame(pop, structure)\n",
    "df.createOrReplaceTempView('interactions')\n",
    "df.show(10)\n"
   ]
  },
  {
   "cell_type": "code",
   "execution_count": 52,
   "metadata": {},
   "outputs": [
    {
     "data": {
      "text/plain": [
       "139"
      ]
     },
     "execution_count": 52,
     "metadata": {},
     "output_type": "execute_result"
    }
   ],
   "source": [
    "res = df[(df['duration'] > 1000) & (df['protocol_type'] == 'tcp') & (df['dest_bytes'] == 0)]\n",
    "res.count()"
   ]
  },
  {
   "cell_type": "code",
   "execution_count": null,
   "metadata": {},
   "outputs": [],
   "source": [
    "result.rdd.map(lambda x : \"Duration: {0}, Dest. bytes: {1}\".format(x.dest_bytes,x.duration)).take(10)\n"
   ]
  },
  {
   "cell_type": "code",
   "execution_count": null,
   "metadata": {},
   "outputs": [],
   "source": []
  },
  {
   "cell_type": "code",
   "execution_count": null,
   "metadata": {},
   "outputs": [],
   "source": []
  },
  {
   "cell_type": "code",
   "execution_count": null,
   "metadata": {},
   "outputs": [],
   "source": []
  }
 ],
 "metadata": {
  "kernelspec": {
   "display_name": "Python 3",
   "language": "python",
   "name": "python3"
  },
  "language_info": {
   "codemirror_mode": {
    "name": "ipython",
    "version": 3
   },
   "file_extension": ".py",
   "mimetype": "text/x-python",
   "name": "python",
   "nbconvert_exporter": "python",
   "pygments_lexer": "ipython3",
   "version": "3.7.3"
  }
 },
 "nbformat": 4,
 "nbformat_minor": 2
}
