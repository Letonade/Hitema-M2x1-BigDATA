{
 "cells": [
  {
   "cell_type": "code",
   "execution_count": 1,
   "metadata": {},
   "outputs": [],
   "source": [
    "import pandas as pd \n",
    "import numpy as np \n",
    "from sklearn import linear_model \n",
    "from sklearn.metrics import mean_squared_error, r2_score"
   ]
  },
  {
   "cell_type": "code",
   "execution_count": 8,
   "metadata": {},
   "outputs": [],
   "source": [
    "dfPa = pd.read_csv('price_availability.csv', sep = \";\") \n",
    "dfLf = pd.read_csv('listings_final.csv', sep = \";\")"
   ]
  },
  {
   "cell_type": "code",
   "execution_count": 18,
   "metadata": {
    "scrolled": false
   },
   "outputs": [
    {
     "name": "stdout",
     "output_type": "stream",
     "text": [
      "<class 'pandas.core.frame.DataFrame'>\n",
      "RangeIndex: 4748696 entries, 0 to 4748695\n",
      "Data columns (total 7 columns):\n",
      "listing_id        int64\n",
      "day               object\n",
      "created           object\n",
      "available         bool\n",
      "local_currency    object\n",
      "local_price       int64\n",
      "min_nights        int64\n",
      "dtypes: bool(1), int64(3), object(3)\n",
      "memory usage: 167.6+ MB\n"
     ]
    }
   ],
   "source": [
    "dfPa.info()"
   ]
  },
  {
   "cell_type": "code",
   "execution_count": 15,
   "metadata": {
    "scrolled": false
   },
   "outputs": [
    {
     "name": "stdout",
     "output_type": "stream",
     "text": [
      "<class 'pandas.core.frame.DataFrame'>\n",
      "RangeIndex: 1000 entries, 0 to 999\n",
      "Data columns (total 19 columns):\n",
      "Unnamed: 0                  1000 non-null int64\n",
      "listing_id                  1000 non-null int64\n",
      "name                        1000 non-null object\n",
      "type                        1000 non-null object\n",
      "city                        1000 non-null object\n",
      "neighborhood                935 non-null object\n",
      "latitude                    1000 non-null float64\n",
      "longitude                   1000 non-null float64\n",
      "person_capacity             1000 non-null int64\n",
      "beds                        1000 non-null int64\n",
      "bedrooms                    1000 non-null int64\n",
      "bathrooms                   1000 non-null float64\n",
      "is_rebookable               1000 non-null bool\n",
      "is_new_listing              1000 non-null bool\n",
      "is_fully_refundable         1000 non-null bool\n",
      "is_host_highly_rated        1000 non-null bool\n",
      "is_business_travel_ready    1000 non-null bool\n",
      "pricing_weekly_factor       1000 non-null float64\n",
      "pricing_monthly_factor      1000 non-null float64\n",
      "dtypes: bool(5), float64(5), int64(5), object(4)\n",
      "memory usage: 98.7+ KB\n"
     ]
    }
   ],
   "source": [
    "dfLf.info()"
   ]
  },
  {
   "cell_type": "code",
   "execution_count": 19,
   "metadata": {},
   "outputs": [],
   "source": [
    "# on utilisera listing_id pour les jointure,    \n",
    "# Du côté Pa il est logique d'utiliser [local_price], en prenant en compte [local_currency]\n",
    "# Du côté Lf on peut prendre: [type], [city], [person_capacity], [bedrooms], [bathrooms]\n"
   ]
  },
  {
   "cell_type": "code",
   "execution_count": null,
   "metadata": {},
   "outputs": [],
   "source": []
  }
 ],
 "metadata": {
  "kernelspec": {
   "display_name": "Python 3",
   "language": "python",
   "name": "python3"
  },
  "language_info": {
   "codemirror_mode": {
    "name": "ipython",
    "version": 3
   },
   "file_extension": ".py",
   "mimetype": "text/x-python",
   "name": "python",
   "nbconvert_exporter": "python",
   "pygments_lexer": "ipython3",
   "version": "3.7.3"
  }
 },
 "nbformat": 4,
 "nbformat_minor": 4
}
